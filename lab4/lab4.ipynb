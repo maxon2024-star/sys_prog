{
  "nbformat": 4,
  "nbformat_minor": 0,
  "metadata": {
    "colab": {
      "provenance": [],
      "collapsed_sections": [
        "S8tYa8jaxG8p",
        "zs4_6P4xxHxv"
      ]
    },
    "kernelspec": {
      "name": "python3",
      "display_name": "Python 3"
    },
    "language_info": {
      "name": "python"
    }
  },
  "cells": [
    {
      "cell_type": "code",
      "execution_count": null,
      "metadata": {
        "colab": {
          "base_uri": "https://localhost:8080/"
        },
        "id": "nWtpfQB55MNJ",
        "outputId": "a4049b4a-946e-4e19-8b7b-ce9019aecd7b"
      },
      "outputs": [
        {
          "output_type": "execute_result",
          "data": {
            "text/plain": [
              "[6, 3, 7]"
            ]
          },
          "metadata": {},
          "execution_count": 11
        }
      ],
      "source": [
        "import random as rd\n",
        "\n",
        "Variant = 7\n",
        "rd.seed(Variant)\n",
        "\n",
        "Numbers_of_problems = [i+1 for i in rd.sample(range(14),3)]\n",
        "Numbers_of_problems"
      ]
    },
    {
      "cell_type": "markdown",
      "source": [
        "## Задача 3 (Асм)"
      ],
      "metadata": {
        "id": "3R98z-Mnw9MK"
      }
    },
    {
      "cell_type": "code",
      "source": [
        "format ELF64\n",
        "public _start\n",
        "include '/workspaces/sys_prog/lab3/func.asm'\n",
        "section '.bss' writable\n",
        "  n dq ?\n",
        "  output dq ?\n",
        "\n",
        "\n",
        "section '.text' executable\n",
        " _start:\n",
        "    mov rax, 0\n",
        "    mov rdi, 0\n",
        "    mov rsi, n\n",
        "    mov rdx, 255\n",
        "    syscall\n",
        "    mov rax, n\n",
        "    call len_str\n",
        "    mov byte [n + rax], 0\n",
        "    call str_number\n",
        "    xor r8, r8\n",
        "\n",
        "\n",
        "    xor rsi,rsi\n",
        "    xor rdi,rdi ; summa\n",
        "    mov rsi, rax    ; schetchik\n",
        "    xor rbx, rbx   ; promez res\n",
        "    xor rdx, rdx   ; peremennaya\n",
        "    .su:\n",
        "    xor rdx, rdx\n",
        "     xor rbx, rbx\n",
        "     mov rdx, rsi\n",
        "\n",
        "     add rbx, rdx ; i\n",
        "\n",
        "     inc rdx\n",
        "     imul rbx, rdx ; i(i+1)\n",
        "     dec rdx\n",
        "     imul rdx, 3\n",
        "\n",
        "     inc rdx\n",
        "     imul rbx, rdx ;i(i+1)(3i+1)\n",
        "\n",
        "     inc rdx\n",
        "     imul rbx, rdx ; i(i+1)(3i+1)(3i+2)\n",
        "\n",
        "     ; считаем минус или +\n",
        "     xor rdx, rdx\n",
        "     ; делим rax на rcx остаток в rdx\n",
        "      xor rax,rax\n",
        "     mov rax,rsi\n",
        "     xor rcx, rcx\n",
        "     mov rcx,2\n",
        "    div rcx\n",
        "     cmp rdx,0\n",
        "     je .fl1\n",
        "      neg rbx\n",
        "     .fl1:\n",
        "     add rdi,rbx ; summiruem\n",
        "     dec rsi\n",
        "     mov rax, rdi\n",
        "     cmp rsi, 0\n",
        "  jne .su\n",
        "\n",
        ";mov rax, [sum]\n",
        "mov rax, rdi\n",
        "call print_num\n",
        "call exit"
      ],
      "metadata": {
        "id": "gljBdnbJxbIO"
      },
      "execution_count": null,
      "outputs": []
    },
    {
      "cell_type": "markdown",
      "source": [
        "## Задача 3 (Си)"
      ],
      "metadata": {
        "id": "yO_A08rKxGaw"
      }
    },
    {
      "cell_type": "code",
      "source": [
        "#include <stdio.h>\n",
        "//#include <stdlib.h>\n",
        "int main(){\n",
        "    int n,sum = 0;\n",
        "    //printf(\"Print n:\\n\");\n",
        "    scanf(\"%d\",&n);\n",
        "    for(int i = 0; i<=n;i++){\n",
        "        if(i%2 == 0){\n",
        "        //printf(\"%d\\n\", zn*i*(i+1)*(3*i+1)*(3*i+2));\n",
        "        sum+=i*(i+1)*(3*i+1)*(3*i+2);\n",
        "        }\n",
        "        else{\n",
        "        //printf(\"%d\\n\", zn*i*(i+1)*(3*i+1)*(3*i+2));\n",
        "        sum-=i*(i+1)*(3*i+1)*(3*i+2);\n",
        "        }\n",
        "    }\n",
        "\n",
        "    printf(\"%d\\n\", sum);\n",
        "    return 0;\n",
        "}"
      ],
      "metadata": {
        "id": "IKrdTACExb4I"
      },
      "execution_count": null,
      "outputs": []
    },
    {
      "cell_type": "markdown",
      "source": [
        "## Задача 6 (Асм)"
      ],
      "metadata": {
        "id": "k_q6Xc9rxGhd"
      }
    },
    {
      "cell_type": "code",
      "source": [
        "format ELF64\n",
        "\n",
        "public _start\n",
        "\n",
        "include '/workspaces/sys_prog/lab3/func.asm'\n",
        "\n",
        "section '.bss' writable\n",
        "  output dq 0\n",
        "  input rb 255\n",
        "  ;sum dq 0\n",
        "  ;n dq ?\n",
        "\n",
        "section '.text' executable\n",
        "  _start:\n",
        "    mov rax, 0\n",
        "    mov rdi, 0\n",
        "    mov rsi, input\n",
        "    call input_keyboard\n",
        "    mov rsi, input\n",
        "    ;call len_str\n",
        "    ;mov byte [input + rax], 0\n",
        "    call str_number\n",
        "    xor r8, r8\n",
        "\n",
        "    mov rbx, rax ; исх число\n",
        "    xor rdi, rdi ; n чисел\n",
        "    cmp rax, 5\n",
        "    jl .end1\n",
        "    mov rsi, 5 ; счетчик\n",
        "\n",
        "\n",
        "  .su:\n",
        "\n",
        "     xor rcx, rcx\n",
        "     xor rdx,rdx\n",
        "\n",
        "     cmp rsi, rbx\n",
        "     jg .end1\n",
        "\n",
        "     .fl1:\n",
        "     xor rax,rax\n",
        "     mov rax,rsi\n",
        "     xor rcx, rcx\n",
        "     xor rdx,rdx\n",
        "     mov rcx,7\n",
        "     div rcx\n",
        "     cmp rdx,0\n",
        "     jg .fl2\n",
        "\n",
        "     add rsi, 5\n",
        "     cmp rsi, rbx\n",
        "     jg .end1\n",
        "\n",
        "    .fl2:\n",
        "     xor rax,rax\n",
        "     mov rax,rsi\n",
        "     xor rcx, rcx\n",
        "     xor rdx,rdx\n",
        "     mov rcx,3\n",
        "     div rcx\n",
        "     cmp rdx,0\n",
        "     jg .fl3\n",
        "\n",
        "     add rsi, 5\n",
        "     cmp rsi, rbx\n",
        "     jg .end1\n",
        "\n",
        "\n",
        "     .fl3:\n",
        "     add rdi,1\n",
        "     add rsi,5\n",
        "     cmp rsi,rbx\n",
        "     jl .su\n",
        "\n",
        "\n",
        ".end1:\n",
        "mov rax, rdi\n",
        "call print_num\n",
        "call exit\n"
      ],
      "metadata": {
        "id": "yjskamyexcbc"
      },
      "execution_count": null,
      "outputs": []
    },
    {
      "cell_type": "markdown",
      "source": [
        "## Задача 6 (Си)"
      ],
      "metadata": {
        "id": "TmhlftXKxGnx"
      }
    },
    {
      "cell_type": "code",
      "source": [
        "#include <stdio.h>\n",
        "\n",
        "int main()\n",
        "{\n",
        "int limit, sum =0;\n",
        "scanf(\"%d\",&limit);\n",
        "\n",
        "for (int n = 0; n <= limit; n++)\n",
        "{\n",
        "if ((n % 7 && n % 3) !=0  && n % 5 == 0){\n",
        "    sum++;\n",
        "    //printf(\"%d\\n\", n);\n",
        "}\n",
        "}\n",
        "printf(\"%d\", sum);\n",
        "return 0;\n",
        "}"
      ],
      "metadata": {
        "id": "D1f2sn9zxc-t"
      },
      "execution_count": null,
      "outputs": []
    },
    {
      "cell_type": "markdown",
      "source": [
        "## Задача 7 (Асм)"
      ],
      "metadata": {
        "id": "S8tYa8jaxG8p"
      }
    },
    {
      "cell_type": "code",
      "source": [
        "format ELF64\n",
        "\n",
        "public _start\n",
        "\n",
        "include '/workspaces/sys_prog/lab3/func.asm'\n",
        "\n",
        "section '.bss' writable\n",
        "  output dq 0\n",
        "  string rb 255\n",
        "  s db ?\n",
        "\n",
        "\n",
        "section '.text' executable\n",
        "  _start:\n",
        "  mov rax, 0\n",
        "    mov rdi, 0\n",
        "    mov rsi, string\n",
        "    call input_keyboard\n",
        "    mov rax, string\n",
        "    call len_str\n",
        "    mov rbx, rax\n",
        "\n",
        "     mov rcx, rax\n",
        "    dec rcx\n",
        "    mov al, [string]\n",
        "    mov byte [s], al\n",
        "\n",
        "\n",
        "    .iter:\n",
        "        push rcx\n",
        "        push rax\n",
        "        mov al, [string+rcx]\n",
        "        call print_symb\n",
        "        pop rax\n",
        "        pop rcx\n",
        "        dec rcx\n",
        "        cmp rcx, 0\n",
        "        jne .iter ; выход как только 0\n",
        "\n",
        "    mov al, [s]\n",
        "    ;dec rcx\n",
        "    ;mov al, [string]\n",
        "    ;call print_str\n",
        "    ;mov al, bl\n",
        "    call print_symb\n",
        "    call exit\n",
        "\n",
        "\n",
        "print_symb:\n",
        "  mov [string], al\n",
        "  mov rax, 4\n",
        "  mov rbx, 1\n",
        "  mov rcx, string\n",
        "  mov rdx, 1\n",
        "  int 0x80\n",
        "  ret\n"
      ],
      "metadata": {
        "id": "pQNltLprxdf9"
      },
      "execution_count": null,
      "outputs": []
    },
    {
      "cell_type": "markdown",
      "source": [
        "## Задача 7 (Си)"
      ],
      "metadata": {
        "id": "zs4_6P4xxHxv"
      }
    },
    {
      "cell_type": "code",
      "source": [
        "#include <stdio.h>\n",
        "\n",
        "int main()\n",
        "{\n",
        "int n;\n",
        "scanf(\"%d\",&n);\n",
        "int rev=0,rem;\n",
        "while(n>0)\n",
        "{\n",
        "    rem=n%10; //take out the remainder .. so it becomes 5 for 12345\n",
        "    rev=rev*10+rem; //multiply the current number by 10 and add this remainder.\n",
        "    n=n/10; //divide the number. So it becomes 1234.\n",
        "}\n",
        "printf(\"%d\",rev);\n",
        "return 0;\n",
        "}"
      ],
      "metadata": {
        "id": "4DjztEN9xd29"
      },
      "execution_count": null,
      "outputs": []
    }
  ]
}